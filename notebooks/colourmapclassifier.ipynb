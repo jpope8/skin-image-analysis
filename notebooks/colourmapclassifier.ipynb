{
 "cells": [
  {
   "cell_type": "markdown",
   "metadata": {},
   "source": [
    "Read in images, maybe look for the most common colour? Or look at borders and then each image only has that value, then use that as a classifier to try and guess fitzpatrick_skin_type or something else\n",
    "Potentially look for dataset of skin tones with Monk Skin Tone\n",
    "- https://en.wikipedia.org/wiki/Fitzpatrick_scale\n",
    "- https://en.wikipedia.org/wiki/Monk_Skin_Tone_Scale"
   ]
  },
  {
   "cell_type": "markdown",
   "metadata": {},
   "source": [
    "- https://skintone.google/mste-dataset\n",
    "- https://github.com/google-research-datasets/scin"
   ]
  },
  {
   "cell_type": "code",
   "execution_count": 1,
   "metadata": {},
   "outputs": [],
   "source": [
    "import cv2\n",
    "from skimage import io, color\n",
    "import numpy as np\n",
    "import math\n",
    "import os\n",
    "import glob\n",
    "from tqdm import tqdm\n",
    "import pandas as pd\n"
   ]
  },
  {
   "cell_type": "markdown",
   "metadata": {},
   "source": [
    "For each image, work out the modal colour of the border and then make a classifier that takes that in and the Fitzgerland score from the spreadsheet and does that. First do it for all fitzgeralds, then for light vs dark"
   ]
  },
  {
   "cell_type": "markdown",
   "metadata": {},
   "source": [
    "30 < L* < 80\n",
    "0 < a* < 20\n",
    "5 < b* < 25"
   ]
  },
  {
   "cell_type": "code",
   "execution_count": 2,
   "metadata": {},
   "outputs": [],
   "source": [
    "def lab_to_ITA(row):\n",
    "    if 30<row[0]<80 == False:\n",
    "        return np.nan\n",
    "    elif 0<row[1]<20 == False:\n",
    "        return np.nan\n",
    "    elif 5<row[2]<25 == False:\n",
    "        return np.nan\n",
    "    else:\n",
    "        result=math.atan((row[0]-50)/row[2])*180/math.pi\n",
    "        return result\n",
    "\n",
    "def Modal_Colour(ITA, precision):\n",
    "    histo= np.histogram(ITA, bins=precision)\n",
    "    histo = histo[0][1:], histo[1][1:]\n",
    "    mode_index = np.argmax(histo[0])\n",
    "\n",
    "    return mode_index, histo\n",
    "\n",
    "def image_to_mode_border(ImagePath, precision):\n",
    "    rgb = io.imread(ImagePath)\n",
    "    lab = color.rgb2lab(rgb)\n",
    "\n",
    "    lab_ita = [lab_to_ITA(row) for row in lab[0]]\n",
    "    mode_index, histo = Modal_Colour(lab_ita, precision)\n",
    "\n",
    "    return mode_index"
   ]
  },
  {
   "cell_type": "markdown",
   "metadata": {},
   "source": [
    "Below labels all the data, takes ages to run, don't use it unless you're relabelling stuff."
   ]
  },
  {
   "cell_type": "code",
   "execution_count": 3,
   "metadata": {},
   "outputs": [
    {
     "ename": "SyntaxError",
     "evalue": "'break' outside loop (3685818934.py, line 1)",
     "output_type": "error",
     "traceback": [
      "\u001b[1;36m  Cell \u001b[1;32mIn[3], line 1\u001b[1;36m\u001b[0m\n\u001b[1;33m    break\u001b[0m\n\u001b[1;37m    ^\u001b[0m\n\u001b[1;31mSyntaxError\u001b[0m\u001b[1;31m:\u001b[0m 'break' outside loop\n"
     ]
    }
   ],
   "source": [
    "break\n",
    "# Path to the ISIC-images folder\n",
    "folder_path = 'myimages'\n",
    "\n",
    "# List to store the outputs\n",
    "output_list = []\n",
    "ISIC_ID=[]\n",
    "print(os.listdir(folder_path))\n",
    "# Iterate over each image in the folder\n",
    "progess=0\n",
    "file_count = len(glob.glob(os.path.join(folder_path, '*.JPG')))\n",
    "print(file_count)\n",
    "\n",
    "# Iterate over each image in the folder\n",
    "progress = tqdm(total=file_count, desc=\"Processing Images\")\n",
    "\n",
    "for filename in os.listdir(folder_path):\n",
    "    if filename.endswith(\".JPG\"):\n",
    "        file=filename.replace(\".JPG\", \"\")\n",
    "        ISIC_ID.append(file)\n",
    "        # Read the image\n",
    "        image_path = os.path.join(folder_path, filename)\n",
    "        \n",
    "        # Apply the function and store the output\n",
    "        output = image_to_mode_border(image_path, 50)\n",
    "        output_list.append(output)\n",
    "        \n",
    "        # Update the progress bar\n",
    "        progress.update(1)\n",
    "\n",
    "# Close the progress bar\n",
    "progress.close()\n",
    "\n",
    "print(output_list)\n",
    "\n",
    "df = pd.DataFrame({'isic_id': ISIC_ID, 'SkinTone': output_list})\n",
    "\n",
    "# Save the DataFrame as a CSV file\n",
    "df.to_csv('output_list2.csv', index=False)\n",
    "df.head()\n"
   ]
  },
  {
   "cell_type": "code",
   "execution_count": 4,
   "metadata": {},
   "outputs": [
    {
     "data": {
      "text/html": [
       "<div>\n",
       "<style scoped>\n",
       "    .dataframe tbody tr th:only-of-type {\n",
       "        vertical-align: middle;\n",
       "    }\n",
       "\n",
       "    .dataframe tbody tr th {\n",
       "        vertical-align: top;\n",
       "    }\n",
       "\n",
       "    .dataframe thead th {\n",
       "        text-align: right;\n",
       "    }\n",
       "</style>\n",
       "<table border=\"1\" class=\"dataframe\">\n",
       "  <thead>\n",
       "    <tr style=\"text-align: right;\">\n",
       "      <th></th>\n",
       "      <th>isic_id</th>\n",
       "      <th>attribution</th>\n",
       "      <th>copyright_license</th>\n",
       "      <th>acquisition_day</th>\n",
       "      <th>age_approx</th>\n",
       "      <th>anatom_site_general</th>\n",
       "      <th>benign_malignant</th>\n",
       "      <th>clin_size_long_diam_mm</th>\n",
       "      <th>concomitant_biopsy</th>\n",
       "      <th>dermoscopic_type</th>\n",
       "      <th>...</th>\n",
       "      <th>mel_thick_mm</th>\n",
       "      <th>mel_type</th>\n",
       "      <th>mel_ulcer</th>\n",
       "      <th>melanocytic</th>\n",
       "      <th>nevus_type</th>\n",
       "      <th>patient_id</th>\n",
       "      <th>personal_hx_mm</th>\n",
       "      <th>pixels_x</th>\n",
       "      <th>pixels_y</th>\n",
       "      <th>sex</th>\n",
       "    </tr>\n",
       "  </thead>\n",
       "  <tbody>\n",
       "    <tr>\n",
       "      <th>0</th>\n",
       "      <td>ISIC_7559201</td>\n",
       "      <td>Memorial Sloan Kettering Cancer Center</td>\n",
       "      <td>CC-BY</td>\n",
       "      <td>2497.0</td>\n",
       "      <td>55.0</td>\n",
       "      <td>anterior torso</td>\n",
       "      <td>benign</td>\n",
       "      <td>6.6</td>\n",
       "      <td>NaN</td>\n",
       "      <td>contact non-polarized</td>\n",
       "      <td>...</td>\n",
       "      <td>NaN</td>\n",
       "      <td>NaN</td>\n",
       "      <td>NaN</td>\n",
       "      <td>True</td>\n",
       "      <td>NaN</td>\n",
       "      <td>IP_1238256</td>\n",
       "      <td>True</td>\n",
       "      <td>3264</td>\n",
       "      <td>2448</td>\n",
       "      <td>female</td>\n",
       "    </tr>\n",
       "    <tr>\n",
       "      <th>1</th>\n",
       "      <td>ISIC_0485014</td>\n",
       "      <td>Memorial Sloan Kettering Cancer Center</td>\n",
       "      <td>CC-BY</td>\n",
       "      <td>1.0</td>\n",
       "      <td>45.0</td>\n",
       "      <td>lower extremity</td>\n",
       "      <td>benign</td>\n",
       "      <td>NaN</td>\n",
       "      <td>NaN</td>\n",
       "      <td>contact non-polarized</td>\n",
       "      <td>...</td>\n",
       "      <td>NaN</td>\n",
       "      <td>NaN</td>\n",
       "      <td>NaN</td>\n",
       "      <td>True</td>\n",
       "      <td>NaN</td>\n",
       "      <td>IP_3227071</td>\n",
       "      <td>NaN</td>\n",
       "      <td>6000</td>\n",
       "      <td>4000</td>\n",
       "      <td>female</td>\n",
       "    </tr>\n",
       "    <tr>\n",
       "      <th>2</th>\n",
       "      <td>ISIC_5257439</td>\n",
       "      <td>Memorial Sloan Kettering Cancer Center</td>\n",
       "      <td>CC-BY</td>\n",
       "      <td>2360.0</td>\n",
       "      <td>40.0</td>\n",
       "      <td>lateral torso</td>\n",
       "      <td>benign</td>\n",
       "      <td>4.2</td>\n",
       "      <td>NaN</td>\n",
       "      <td>NaN</td>\n",
       "      <td>...</td>\n",
       "      <td>NaN</td>\n",
       "      <td>NaN</td>\n",
       "      <td>NaN</td>\n",
       "      <td>True</td>\n",
       "      <td>NaN</td>\n",
       "      <td>IP_7407753</td>\n",
       "      <td>True</td>\n",
       "      <td>3264</td>\n",
       "      <td>2448</td>\n",
       "      <td>female</td>\n",
       "    </tr>\n",
       "    <tr>\n",
       "      <th>3</th>\n",
       "      <td>ISIC_2989732</td>\n",
       "      <td>Memorial Sloan Kettering Cancer Center</td>\n",
       "      <td>CC-BY</td>\n",
       "      <td>78.0</td>\n",
       "      <td>80.0</td>\n",
       "      <td>anterior torso</td>\n",
       "      <td>benign</td>\n",
       "      <td>NaN</td>\n",
       "      <td>NaN</td>\n",
       "      <td>non-contact polarized</td>\n",
       "      <td>...</td>\n",
       "      <td>NaN</td>\n",
       "      <td>NaN</td>\n",
       "      <td>NaN</td>\n",
       "      <td>True</td>\n",
       "      <td>NaN</td>\n",
       "      <td>IP_2597637</td>\n",
       "      <td>NaN</td>\n",
       "      <td>6000</td>\n",
       "      <td>4000</td>\n",
       "      <td>male</td>\n",
       "    </tr>\n",
       "    <tr>\n",
       "      <th>4</th>\n",
       "      <td>ISIC_5638210</td>\n",
       "      <td>Memorial Sloan Kettering Cancer Center</td>\n",
       "      <td>CC-BY</td>\n",
       "      <td>78.0</td>\n",
       "      <td>80.0</td>\n",
       "      <td>anterior torso</td>\n",
       "      <td>benign</td>\n",
       "      <td>NaN</td>\n",
       "      <td>NaN</td>\n",
       "      <td>contact non-polarized</td>\n",
       "      <td>...</td>\n",
       "      <td>NaN</td>\n",
       "      <td>NaN</td>\n",
       "      <td>NaN</td>\n",
       "      <td>True</td>\n",
       "      <td>NaN</td>\n",
       "      <td>IP_2597637</td>\n",
       "      <td>NaN</td>\n",
       "      <td>6000</td>\n",
       "      <td>4000</td>\n",
       "      <td>male</td>\n",
       "    </tr>\n",
       "  </tbody>\n",
       "</table>\n",
       "<p>5 rows × 27 columns</p>\n",
       "</div>"
      ],
      "text/plain": [
       "        isic_id                             attribution copyright_license  \\\n",
       "0  ISIC_7559201  Memorial Sloan Kettering Cancer Center             CC-BY   \n",
       "1  ISIC_0485014  Memorial Sloan Kettering Cancer Center             CC-BY   \n",
       "2  ISIC_5257439  Memorial Sloan Kettering Cancer Center             CC-BY   \n",
       "3  ISIC_2989732  Memorial Sloan Kettering Cancer Center             CC-BY   \n",
       "4  ISIC_5638210  Memorial Sloan Kettering Cancer Center             CC-BY   \n",
       "\n",
       "   acquisition_day  age_approx anatom_site_general benign_malignant  \\\n",
       "0           2497.0        55.0      anterior torso           benign   \n",
       "1              1.0        45.0     lower extremity           benign   \n",
       "2           2360.0        40.0       lateral torso           benign   \n",
       "3             78.0        80.0      anterior torso           benign   \n",
       "4             78.0        80.0      anterior torso           benign   \n",
       "\n",
       "   clin_size_long_diam_mm concomitant_biopsy       dermoscopic_type  ...  \\\n",
       "0                     6.6                NaN  contact non-polarized  ...   \n",
       "1                     NaN                NaN  contact non-polarized  ...   \n",
       "2                     4.2                NaN                    NaN  ...   \n",
       "3                     NaN                NaN  non-contact polarized  ...   \n",
       "4                     NaN                NaN  contact non-polarized  ...   \n",
       "\n",
       "  mel_thick_mm mel_type mel_ulcer melanocytic nevus_type  patient_id  \\\n",
       "0          NaN      NaN       NaN        True        NaN  IP_1238256   \n",
       "1          NaN      NaN       NaN        True        NaN  IP_3227071   \n",
       "2          NaN      NaN       NaN        True        NaN  IP_7407753   \n",
       "3          NaN      NaN       NaN        True        NaN  IP_2597637   \n",
       "4          NaN      NaN       NaN        True        NaN  IP_2597637   \n",
       "\n",
       "  personal_hx_mm  pixels_x pixels_y     sex  \n",
       "0           True      3264     2448  female  \n",
       "1            NaN      6000     4000  female  \n",
       "2           True      3264     2448  female  \n",
       "3            NaN      6000     4000    male  \n",
       "4            NaN      6000     4000    male  \n",
       "\n",
       "[5 rows x 27 columns]"
      ]
     },
     "execution_count": 4,
     "metadata": {},
     "output_type": "execute_result"
    }
   ],
   "source": [
    "metadata = pd.read_csv('myimages/metadata.csv')\n",
    "output=pd.read_csv('output_list2.csv')\n",
    "metadata.head()"
   ]
  },
  {
   "cell_type": "code",
   "execution_count": 5,
   "metadata": {},
   "outputs": [
    {
     "data": {
      "text/html": [
       "<div>\n",
       "<style scoped>\n",
       "    .dataframe tbody tr th:only-of-type {\n",
       "        vertical-align: middle;\n",
       "    }\n",
       "\n",
       "    .dataframe tbody tr th {\n",
       "        vertical-align: top;\n",
       "    }\n",
       "\n",
       "    .dataframe thead th {\n",
       "        text-align: right;\n",
       "    }\n",
       "</style>\n",
       "<table border=\"1\" class=\"dataframe\">\n",
       "  <thead>\n",
       "    <tr style=\"text-align: right;\">\n",
       "      <th></th>\n",
       "      <th>isic_id</th>\n",
       "      <th>attribution</th>\n",
       "      <th>copyright_license</th>\n",
       "      <th>acquisition_day</th>\n",
       "      <th>age_approx</th>\n",
       "      <th>anatom_site_general</th>\n",
       "      <th>benign_malignant</th>\n",
       "      <th>clin_size_long_diam_mm</th>\n",
       "      <th>concomitant_biopsy</th>\n",
       "      <th>dermoscopic_type</th>\n",
       "      <th>...</th>\n",
       "      <th>mel_type</th>\n",
       "      <th>mel_ulcer</th>\n",
       "      <th>melanocytic</th>\n",
       "      <th>nevus_type</th>\n",
       "      <th>patient_id</th>\n",
       "      <th>personal_hx_mm</th>\n",
       "      <th>pixels_x</th>\n",
       "      <th>pixels_y</th>\n",
       "      <th>sex</th>\n",
       "      <th>SkinTone</th>\n",
       "    </tr>\n",
       "  </thead>\n",
       "  <tbody>\n",
       "    <tr>\n",
       "      <th>0</th>\n",
       "      <td>ISIC_7559201</td>\n",
       "      <td>Memorial Sloan Kettering Cancer Center</td>\n",
       "      <td>CC-BY</td>\n",
       "      <td>2497.0</td>\n",
       "      <td>55.0</td>\n",
       "      <td>anterior torso</td>\n",
       "      <td>benign</td>\n",
       "      <td>6.6</td>\n",
       "      <td>NaN</td>\n",
       "      <td>contact non-polarized</td>\n",
       "      <td>...</td>\n",
       "      <td>NaN</td>\n",
       "      <td>NaN</td>\n",
       "      <td>True</td>\n",
       "      <td>NaN</td>\n",
       "      <td>IP_1238256</td>\n",
       "      <td>True</td>\n",
       "      <td>3264</td>\n",
       "      <td>2448</td>\n",
       "      <td>female</td>\n",
       "      <td>48</td>\n",
       "    </tr>\n",
       "    <tr>\n",
       "      <th>1</th>\n",
       "      <td>ISIC_0485014</td>\n",
       "      <td>Memorial Sloan Kettering Cancer Center</td>\n",
       "      <td>CC-BY</td>\n",
       "      <td>1.0</td>\n",
       "      <td>45.0</td>\n",
       "      <td>lower extremity</td>\n",
       "      <td>benign</td>\n",
       "      <td>NaN</td>\n",
       "      <td>NaN</td>\n",
       "      <td>contact non-polarized</td>\n",
       "      <td>...</td>\n",
       "      <td>NaN</td>\n",
       "      <td>NaN</td>\n",
       "      <td>True</td>\n",
       "      <td>NaN</td>\n",
       "      <td>IP_3227071</td>\n",
       "      <td>NaN</td>\n",
       "      <td>6000</td>\n",
       "      <td>4000</td>\n",
       "      <td>female</td>\n",
       "      <td>13</td>\n",
       "    </tr>\n",
       "    <tr>\n",
       "      <th>2</th>\n",
       "      <td>ISIC_5257439</td>\n",
       "      <td>Memorial Sloan Kettering Cancer Center</td>\n",
       "      <td>CC-BY</td>\n",
       "      <td>2360.0</td>\n",
       "      <td>40.0</td>\n",
       "      <td>lateral torso</td>\n",
       "      <td>benign</td>\n",
       "      <td>4.2</td>\n",
       "      <td>NaN</td>\n",
       "      <td>NaN</td>\n",
       "      <td>...</td>\n",
       "      <td>NaN</td>\n",
       "      <td>NaN</td>\n",
       "      <td>True</td>\n",
       "      <td>NaN</td>\n",
       "      <td>IP_7407753</td>\n",
       "      <td>True</td>\n",
       "      <td>3264</td>\n",
       "      <td>2448</td>\n",
       "      <td>female</td>\n",
       "      <td>44</td>\n",
       "    </tr>\n",
       "    <tr>\n",
       "      <th>3</th>\n",
       "      <td>ISIC_2989732</td>\n",
       "      <td>Memorial Sloan Kettering Cancer Center</td>\n",
       "      <td>CC-BY</td>\n",
       "      <td>78.0</td>\n",
       "      <td>80.0</td>\n",
       "      <td>anterior torso</td>\n",
       "      <td>benign</td>\n",
       "      <td>NaN</td>\n",
       "      <td>NaN</td>\n",
       "      <td>non-contact polarized</td>\n",
       "      <td>...</td>\n",
       "      <td>NaN</td>\n",
       "      <td>NaN</td>\n",
       "      <td>True</td>\n",
       "      <td>NaN</td>\n",
       "      <td>IP_2597637</td>\n",
       "      <td>NaN</td>\n",
       "      <td>6000</td>\n",
       "      <td>4000</td>\n",
       "      <td>male</td>\n",
       "      <td>47</td>\n",
       "    </tr>\n",
       "    <tr>\n",
       "      <th>4</th>\n",
       "      <td>ISIC_5638210</td>\n",
       "      <td>Memorial Sloan Kettering Cancer Center</td>\n",
       "      <td>CC-BY</td>\n",
       "      <td>78.0</td>\n",
       "      <td>80.0</td>\n",
       "      <td>anterior torso</td>\n",
       "      <td>benign</td>\n",
       "      <td>NaN</td>\n",
       "      <td>NaN</td>\n",
       "      <td>contact non-polarized</td>\n",
       "      <td>...</td>\n",
       "      <td>NaN</td>\n",
       "      <td>NaN</td>\n",
       "      <td>True</td>\n",
       "      <td>NaN</td>\n",
       "      <td>IP_2597637</td>\n",
       "      <td>NaN</td>\n",
       "      <td>6000</td>\n",
       "      <td>4000</td>\n",
       "      <td>male</td>\n",
       "      <td>40</td>\n",
       "    </tr>\n",
       "  </tbody>\n",
       "</table>\n",
       "<p>5 rows × 28 columns</p>\n",
       "</div>"
      ],
      "text/plain": [
       "        isic_id                             attribution copyright_license  \\\n",
       "0  ISIC_7559201  Memorial Sloan Kettering Cancer Center             CC-BY   \n",
       "1  ISIC_0485014  Memorial Sloan Kettering Cancer Center             CC-BY   \n",
       "2  ISIC_5257439  Memorial Sloan Kettering Cancer Center             CC-BY   \n",
       "3  ISIC_2989732  Memorial Sloan Kettering Cancer Center             CC-BY   \n",
       "4  ISIC_5638210  Memorial Sloan Kettering Cancer Center             CC-BY   \n",
       "\n",
       "   acquisition_day  age_approx anatom_site_general benign_malignant  \\\n",
       "0           2497.0        55.0      anterior torso           benign   \n",
       "1              1.0        45.0     lower extremity           benign   \n",
       "2           2360.0        40.0       lateral torso           benign   \n",
       "3             78.0        80.0      anterior torso           benign   \n",
       "4             78.0        80.0      anterior torso           benign   \n",
       "\n",
       "   clin_size_long_diam_mm concomitant_biopsy       dermoscopic_type  ...  \\\n",
       "0                     6.6                NaN  contact non-polarized  ...   \n",
       "1                     NaN                NaN  contact non-polarized  ...   \n",
       "2                     4.2                NaN                    NaN  ...   \n",
       "3                     NaN                NaN  non-contact polarized  ...   \n",
       "4                     NaN                NaN  contact non-polarized  ...   \n",
       "\n",
       "  mel_type mel_ulcer melanocytic nevus_type  patient_id personal_hx_mm  \\\n",
       "0      NaN       NaN        True        NaN  IP_1238256           True   \n",
       "1      NaN       NaN        True        NaN  IP_3227071            NaN   \n",
       "2      NaN       NaN        True        NaN  IP_7407753           True   \n",
       "3      NaN       NaN        True        NaN  IP_2597637            NaN   \n",
       "4      NaN       NaN        True        NaN  IP_2597637            NaN   \n",
       "\n",
       "  pixels_x  pixels_y     sex SkinTone  \n",
       "0     3264      2448  female       48  \n",
       "1     6000      4000  female       13  \n",
       "2     3264      2448  female       44  \n",
       "3     6000      4000    male       47  \n",
       "4     6000      4000    male       40  \n",
       "\n",
       "[5 rows x 28 columns]"
      ]
     },
     "execution_count": 5,
     "metadata": {},
     "output_type": "execute_result"
    }
   ],
   "source": [
    "SkinClassifier = pd.merge(metadata, output, on='isic_id')\n",
    "SkinClassifier.head()"
   ]
  },
  {
   "cell_type": "code",
   "execution_count": 6,
   "metadata": {},
   "outputs": [],
   "source": [
    "def fitzpatrick_converter(entry):\n",
    "    if entry == \"I\":\n",
    "        return \"1\"\n",
    "    elif entry == \"II\":\n",
    "        return \"2\"\n",
    "    elif entry == \"III\":\n",
    "        return \"3\"\n",
    "    elif entry == \"IV\":\n",
    "        return \"4\"\n",
    "    elif entry == \"V\":\n",
    "        return \"5\"\n",
    "    elif entry == \"VI\":\n",
    "        return \"6\"\n",
    "    else:\n",
    "        return \"Error\"\n",
    "def fitzpatrick_binary(entry):\n",
    "    if entry in [\"1\", \"2\"]:\n",
    "        return \"0\"\n",
    "    elif entry in [\"3\", \"4\", \"5\", \"6\"]:\n",
    "        return \"1\"\n",
    "    else:\n",
    "        return \"Error\""
   ]
  },
  {
   "cell_type": "code",
   "execution_count": 7,
   "metadata": {},
   "outputs": [
    {
     "data": {
      "text/plain": [
       "<Axes: xlabel='fitzpatrick_skin_type'>"
      ]
     },
     "execution_count": 7,
     "metadata": {},
     "output_type": "execute_result"
    },
    {
     "data": {
      "image/png": "[encoded data removed]",
      "text/plain": [
       "<Figure size 640x480 with 1 Axes>"
      ]
     },
     "metadata": {},
     "output_type": "display_data"
    }
   ],
   "source": [
    "SkinClassifier['fitzpatrick_skin_type'].value_counts().plot(kind=\"bar\")"
   ]
  },
  {
   "cell_type": "code",
   "execution_count": 8,
   "metadata": {},
   "outputs": [],
   "source": [
    "SkinClassifier['ToneMult'] = SkinClassifier['fitzpatrick_skin_type'].apply(fitzpatrick_converter)\n",
    "SkinClassifier[\"ToneBinary\"]=SkinClassifier['ToneMult'].apply(fitzpatrick_binary)\n"
   ]
  },
  {
   "cell_type": "code",
   "execution_count": 9,
   "metadata": {},
   "outputs": [
    {
     "data": {
      "text/plain": [
       "<Axes: xlabel='ToneMult'>"
      ]
     },
     "execution_count": 9,
     "metadata": {},
     "output_type": "execute_result"
    },
    {
     "data": {
      "image/png": "[encoded data removed]",
      "text/plain": [
       "<Figure size 640x480 with 1 Axes>"
      ]
     },
     "metadata": {},
     "output_type": "display_data"
    }
   ],
   "source": [
    "SkinClassifier[\"ToneMult\"].value_counts().plot(kind=\"bar\")"
   ]
  },
  {
   "cell_type": "code",
   "execution_count": 10,
   "metadata": {},
   "outputs": [
    {
     "data": {
      "text/plain": [
       "<Axes: xlabel='ToneBinary'>"
      ]
     },
     "execution_count": 10,
     "metadata": {},
     "output_type": "execute_result"
    },
    {
     "data": {
      "image/png": "[encoded data removed]",
      "text/plain": [
       "<Figure size 640x480 with 1 Axes>"
      ]
     },
     "metadata": {},
     "output_type": "display_data"
    }
   ],
   "source": [
    "SkinClassifier[\"ToneBinary\"].value_counts().plot(kind=\"bar\")\n"
   ]
  },
  {
   "cell_type": "code",
   "execution_count": 11,
   "metadata": {},
   "outputs": [
    {
     "data": {
      "text/html": [
       "<div>\n",
       "<style scoped>\n",
       "    .dataframe tbody tr th:only-of-type {\n",
       "        vertical-align: middle;\n",
       "    }\n",
       "\n",
       "    .dataframe tbody tr th {\n",
       "        vertical-align: top;\n",
       "    }\n",
       "\n",
       "    .dataframe thead th {\n",
       "        text-align: right;\n",
       "    }\n",
       "</style>\n",
       "<table border=\"1\" class=\"dataframe\">\n",
       "  <thead>\n",
       "    <tr style=\"text-align: right;\">\n",
       "      <th></th>\n",
       "      <th>isic_id</th>\n",
       "      <th>ToneBinary</th>\n",
       "      <th>ToneMult</th>\n",
       "      <th>SkinTone</th>\n",
       "    </tr>\n",
       "  </thead>\n",
       "  <tbody>\n",
       "    <tr>\n",
       "      <th>0</th>\n",
       "      <td>ISIC_7559201</td>\n",
       "      <td>1</td>\n",
       "      <td>4</td>\n",
       "      <td>48</td>\n",
       "    </tr>\n",
       "    <tr>\n",
       "      <th>1</th>\n",
       "      <td>ISIC_0485014</td>\n",
       "      <td>0</td>\n",
       "      <td>1</td>\n",
       "      <td>13</td>\n",
       "    </tr>\n",
       "    <tr>\n",
       "      <th>2</th>\n",
       "      <td>ISIC_5257439</td>\n",
       "      <td>0</td>\n",
       "      <td>2</td>\n",
       "      <td>44</td>\n",
       "    </tr>\n",
       "    <tr>\n",
       "      <th>3</th>\n",
       "      <td>ISIC_2989732</td>\n",
       "      <td>0</td>\n",
       "      <td>2</td>\n",
       "      <td>47</td>\n",
       "    </tr>\n",
       "    <tr>\n",
       "      <th>4</th>\n",
       "      <td>ISIC_5638210</td>\n",
       "      <td>0</td>\n",
       "      <td>2</td>\n",
       "      <td>40</td>\n",
       "    </tr>\n",
       "  </tbody>\n",
       "</table>\n",
       "</div>"
      ],
      "text/plain": [
       "        isic_id ToneBinary ToneMult  SkinTone\n",
       "0  ISIC_7559201          1        4        48\n",
       "1  ISIC_0485014          0        1        13\n",
       "2  ISIC_5257439          0        2        44\n",
       "3  ISIC_2989732          0        2        47\n",
       "4  ISIC_5638210          0        2        40"
      ]
     },
     "execution_count": 11,
     "metadata": {},
     "output_type": "execute_result"
    }
   ],
   "source": [
    "ClassDF=SkinClassifier[['isic_id','ToneBinary','ToneMult','SkinTone']]\n",
    "ClassDF = ClassDF[ClassDF['ToneBinary'] != 'Error']\n",
    "\n",
    "ClassDF.head()"
   ]
  },
  {
   "cell_type": "code",
   "execution_count": 18,
   "metadata": {},
   "outputs": [
    {
     "data": {
      "text/plain": [
       "<Axes: xlabel='SkinTone', ylabel='Count'>"
      ]
     },
     "execution_count": 18,
     "metadata": {},
     "output_type": "execute_result"
    },
    {
     "data": {
      "image/png": "[encoded data removed]",
      "text/plain": [
       "<Figure size 640x480 with 1 Axes>"
      ]
     },
     "metadata": {},
     "output_type": "display_data"
    }
   ],
   "source": [
    "import seaborn as sns\n",
    "sns.histplot(ClassDF['SkinTone'])"
   ]
  },
  {
   "cell_type": "code",
   "execution_count": 20,
   "metadata": {},
   "outputs": [
    {
     "data": {
      "text/plain": [
       "<Axes: xlabel='SkinTone', ylabel='Density'>"
      ]
     },
     "execution_count": 20,
     "metadata": {},
     "output_type": "execute_result"
    },
    {
     "data": {
      "image/png": "[encoded data removed]",
      "text/plain": [
       "<Figure size 640x480 with 1 Axes>"
      ]
     },
     "metadata": {},
     "output_type": "display_data"
    }
   ],
   "source": [
    "sns.kdeplot(data=ClassDF, x='SkinTone', hue='ToneBinary')"
   ]
  },
  {
   "cell_type": "code",
   "execution_count": null,
   "metadata": {},
   "outputs": [
    {
     "name": "stdout",
     "output_type": "stream",
     "text": [
      "isic_id       0\n",
      "ToneBinary    0\n",
      "ToneMult      0\n",
      "SkinTone      0\n",
      "dtype: int64\n"
     ]
    }
   ],
   "source": [
    "nan_values = ClassDF.isna().sum()\n",
    "print(nan_values)\n"
   ]
  },
  {
   "cell_type": "code",
   "execution_count": null,
   "metadata": {},
   "outputs": [
    {
     "data": {
      "text/plain": [
       "3685"
      ]
     },
     "execution_count": 51,
     "metadata": {},
     "output_type": "execute_result"
    }
   ],
   "source": [
    "X = ClassDF[\"SkinTone\"]\n",
    "y = ClassDF['ToneBinary']\n",
    "y.value_counts()\n",
    "len(X)\n",
    "# Got some fixing to do\n"
   ]
  },
  {
   "cell_type": "code",
   "execution_count": null,
   "metadata": {},
   "outputs": [],
   "source": [
    "from sklearn.model_selection import train_test_split\n",
    "\n",
    "X_train, X_test, y_train, y_test = train_test_split(X, y , test_size=0.25)\n",
    "X_train = X_train.to_frame()\n",
    "X_test = X_test.to_frame()\n",
    "y_train = y_train.to_frame()\n",
    "y_test = y_test.to_frame()\n",
    "\n",
    "from sklearn.preprocessing import StandardScaler\n",
    "\n",
    "ss_train = StandardScaler()\n",
    "X_train = ss_train.fit_transform(X_train)\n",
    "\n",
    "ss_test = StandardScaler()\n",
    "X_test = ss_test.fit_transform(X_test)"
   ]
  },
  {
   "cell_type": "code",
   "execution_count": null,
   "metadata": {},
   "outputs": [],
   "source": [
    "models = {}\n",
    "\n",
    "# Logistic Regression\n",
    "#from sklearn.linear_model import LogisticRegression\n",
    "#models['Logistic Regression'] = LogisticRegression()\n",
    "\n",
    "# Support Vector Machines\n",
    "from sklearn.svm import LinearSVC\n",
    "models['Support Vector Machines'] = LinearSVC()\n",
    "#SVM is best :)\n",
    "\n",
    "\n",
    "\n",
    "\n",
    "# Decision Trees\n",
    "from sklearn.tree import DecisionTreeClassifier\n",
    "models['Decision Trees'] = DecisionTreeClassifier()\n",
    "\n",
    "# # Random Forest\n",
    "from sklearn.ensemble import RandomForestClassifier\n",
    "models['Random Forest'] = RandomForestClassifier()\n",
    "\n",
    "# Naive Bayes\n",
    "from sklearn.naive_bayes import GaussianNB\n",
    "models['Naive Bayes'] = GaussianNB()\n",
    "\n",
    "# K-Nearest Neighbors\n",
    "from sklearn.neighbors import KNeighborsClassifier\n",
    "models['K-Nearest Neighbor'] = KNeighborsClassifier()"
   ]
  },
  {
   "cell_type": "code",
   "execution_count": null,
   "metadata": {},
   "outputs": [
    {
     "name": "stderr",
     "output_type": "stream",
     "text": [
      "c:\\Users\\hd15639\\AppData\\Local\\anaconda3\\envs\\SkinTone\\Lib\\site-packages\\sklearn\\utils\\validation.py:1300: DataConversionWarning: A column-vector y was passed when a 1d array was expected. Please change the shape of y to (n_samples, ), for example using ravel().\n",
      "  y = column_or_1d(y, warn=True)\n",
      "c:\\Users\\hd15639\\AppData\\Local\\anaconda3\\envs\\SkinTone\\Lib\\site-packages\\sklearn\\svm\\_classes.py:31: FutureWarning: The default value of `dual` will change from `True` to `'auto'` in 1.5. Set the value of `dual` explicitly to suppress the warning.\n",
      "  warnings.warn(\n",
      "c:\\Users\\hd15639\\AppData\\Local\\anaconda3\\envs\\SkinTone\\Lib\\site-packages\\sklearn\\metrics\\_classification.py:1509: UndefinedMetricWarning: Recall is ill-defined and being set to 0.0 in labels with no true samples. Use `zero_division` parameter to control this behavior.\n",
      "  _warn_prf(average, modifier, f\"{metric.capitalize()} is\", len(result))\n",
      "c:\\Users\\hd15639\\AppData\\Local\\anaconda3\\envs\\SkinTone\\Lib\\site-packages\\sklearn\\metrics\\_classification.py:1509: UndefinedMetricWarning: Recall is ill-defined and being set to 0.0 in labels with no true samples. Use `zero_division` parameter to control this behavior.\n",
      "  _warn_prf(average, modifier, f\"{metric.capitalize()} is\", len(result))\n",
      "c:\\Users\\hd15639\\AppData\\Local\\anaconda3\\envs\\SkinTone\\Lib\\site-packages\\sklearn\\base.py:1474: DataConversionWarning: A column-vector y was passed when a 1d array was expected. Please change the shape of y to (n_samples,), for example using ravel().\n",
      "  return fit_method(estimator, *args, **kwargs)\n",
      "c:\\Users\\hd15639\\AppData\\Local\\anaconda3\\envs\\SkinTone\\Lib\\site-packages\\sklearn\\metrics\\_classification.py:1509: UndefinedMetricWarning: Recall is ill-defined and being set to 0.0 in labels with no true samples. Use `zero_division` parameter to control this behavior.\n",
      "  _warn_prf(average, modifier, f\"{metric.capitalize()} is\", len(result))\n",
      "c:\\Users\\hd15639\\AppData\\Local\\anaconda3\\envs\\SkinTone\\Lib\\site-packages\\sklearn\\utils\\validation.py:1300: DataConversionWarning: A column-vector y was passed when a 1d array was expected. Please change the shape of y to (n_samples, ), for example using ravel().\n",
      "  y = column_or_1d(y, warn=True)\n",
      "c:\\Users\\hd15639\\AppData\\Local\\anaconda3\\envs\\SkinTone\\Lib\\site-packages\\sklearn\\metrics\\_classification.py:1509: UndefinedMetricWarning: Recall is ill-defined and being set to 0.0 in labels with no true samples. Use `zero_division` parameter to control this behavior.\n",
      "  _warn_prf(average, modifier, f\"{metric.capitalize()} is\", len(result))\n",
      "c:\\Users\\hd15639\\AppData\\Local\\anaconda3\\envs\\SkinTone\\Lib\\site-packages\\sklearn\\neighbors\\_classification.py:238: DataConversionWarning: A column-vector y was passed when a 1d array was expected. Please change the shape of y to (n_samples,), for example using ravel().\n",
      "  return self._fit(X, y)\n",
      "c:\\Users\\hd15639\\AppData\\Local\\anaconda3\\envs\\SkinTone\\Lib\\site-packages\\sklearn\\metrics\\_classification.py:1509: UndefinedMetricWarning: Recall is ill-defined and being set to 0.0 in labels with no true samples. Use `zero_division` parameter to control this behavior.\n",
      "  _warn_prf(average, modifier, f\"{metric.capitalize()} is\", len(result))\n"
     ]
    }
   ],
   "source": [
    "from sklearn.metrics import accuracy_score, precision_score, recall_score\n",
    "from sklearn.preprocessing import LabelEncoder\n",
    "from sklearn.metrics import precision_score\n",
    "\n",
    "\n",
    "accuracy, precision, recall, predictions = {}, {}, {}, {}\n",
    "\n",
    "for key in models.keys():\n",
    "    \n",
    "    # Fit the classifier\n",
    "    models[key].fit(X_train, y_train)\n",
    "    \n",
    "    # Make predictions\n",
    "    predictions = models[key].predict(X_test)\n",
    "    \n",
    "    # Calculate metrics\n",
    "    accuracy[key] = accuracy_score(predictions, y_test)\n",
    "    precision[key] = precision_score(predictions, y_test, average='weighted')\n",
    "    recall[key] = recall_score(predictions, y_test, average='weighted')\n",
    "    "
   ]
  },
  {
   "cell_type": "code",
   "execution_count": null,
   "metadata": {},
   "outputs": [
    {
     "data": {
      "text/html": [
       "<div>\n",
       "<style scoped>\n",
       "    .dataframe tbody tr th:only-of-type {\n",
       "        vertical-align: middle;\n",
       "    }\n",
       "\n",
       "    .dataframe tbody tr th {\n",
       "        vertical-align: top;\n",
       "    }\n",
       "\n",
       "    .dataframe thead th {\n",
       "        text-align: right;\n",
       "    }\n",
       "</style>\n",
       "<table border=\"1\" class=\"dataframe\">\n",
       "  <thead>\n",
       "    <tr style=\"text-align: right;\">\n",
       "      <th></th>\n",
       "      <th>Accuracy</th>\n",
       "      <th>Precision</th>\n",
       "      <th>Recall</th>\n",
       "    </tr>\n",
       "  </thead>\n",
       "  <tbody>\n",
       "    <tr>\n",
       "      <th>Support Vector Machines</th>\n",
       "      <td>0.827549</td>\n",
       "      <td>1.0</td>\n",
       "      <td>0.827549</td>\n",
       "    </tr>\n",
       "    <tr>\n",
       "      <th>Decision Trees</th>\n",
       "      <td>0.827549</td>\n",
       "      <td>1.0</td>\n",
       "      <td>0.827549</td>\n",
       "    </tr>\n",
       "    <tr>\n",
       "      <th>Random Forest</th>\n",
       "      <td>0.827549</td>\n",
       "      <td>1.0</td>\n",
       "      <td>0.827549</td>\n",
       "    </tr>\n",
       "    <tr>\n",
       "      <th>Naive Bayes</th>\n",
       "      <td>0.827549</td>\n",
       "      <td>1.0</td>\n",
       "      <td>0.827549</td>\n",
       "    </tr>\n",
       "    <tr>\n",
       "      <th>K-Nearest Neighbor</th>\n",
       "      <td>0.827549</td>\n",
       "      <td>1.0</td>\n",
       "      <td>0.827549</td>\n",
       "    </tr>\n",
       "  </tbody>\n",
       "</table>\n",
       "</div>"
      ],
      "text/plain": [
       "                         Accuracy  Precision    Recall\n",
       "Support Vector Machines  0.827549        1.0  0.827549\n",
       "Decision Trees           0.827549        1.0  0.827549\n",
       "Random Forest            0.827549        1.0  0.827549\n",
       "Naive Bayes              0.827549        1.0  0.827549\n",
       "K-Nearest Neighbor       0.827549        1.0  0.827549"
      ]
     },
     "execution_count": 60,
     "metadata": {},
     "output_type": "execute_result"
    }
   ],
   "source": [
    "df_model = pd.DataFrame(index=models.keys(), columns=['Accuracy', 'Precision', 'Recall'])\n",
    "df_model['Accuracy'] = accuracy.values()\n",
    "df_model['Precision'] = precision.values()\n",
    "df_model['Recall'] = recall.values()\n",
    "\n",
    "df_model"
   ]
  },
  {
   "cell_type": "code",
   "execution_count": null,
   "metadata": {},
   "outputs": [
    {
     "data": {
      "image/png": "[encoded data removed]",
      "text/plain": [
       "<Figure size 640x480 with 1 Axes>"
      ]
     },
     "metadata": {},
     "output_type": "display_data"
    }
   ],
   "source": [
    "ax = df_model.plot.barh()\n",
    "ax.legend(\n",
    "    ncol=len(models.keys()), \n",
    "    bbox_to_anchor=(0, 1), \n",
    "    loc='lower left', \n",
    "    prop={'size': 14}\n",
    ")\n",
    "plt.tight_layout()"
   ]
  },
  {
   "cell_type": "code",
   "execution_count": null,
   "metadata": {},
   "outputs": [
    {
     "name": "stdout",
     "output_type": "stream",
     "text": [
      "0.8312075983717775\n"
     ]
    }
   ],
   "source": [
    "ClassDF['ToneBinary'].value_counts()\n",
    "print(3063/(3063+622))\n"
   ]
  },
  {
   "cell_type": "code",
   "execution_count": null,
   "metadata": {},
   "outputs": [
    {
     "name": "stderr",
     "output_type": "stream",
     "text": [
      "c:\\Users\\hd15639\\AppData\\Local\\anaconda3\\envs\\SkinTone\\Lib\\site-packages\\sklearn\\base.py:486: UserWarning: X has feature names, but LinearSVC was fitted without feature names\n",
      "  warnings.warn(\n"
     ]
    },
    {
     "data": {
      "text/html": [
       "<div>\n",
       "<style scoped>\n",
       "    .dataframe tbody tr th:only-of-type {\n",
       "        vertical-align: middle;\n",
       "    }\n",
       "\n",
       "    .dataframe tbody tr th {\n",
       "        vertical-align: top;\n",
       "    }\n",
       "\n",
       "    .dataframe thead th {\n",
       "        text-align: right;\n",
       "    }\n",
       "</style>\n",
       "<table border=\"1\" class=\"dataframe\">\n",
       "  <thead>\n",
       "    <tr style=\"text-align: right;\">\n",
       "      <th></th>\n",
       "      <th>isic_id</th>\n",
       "      <th>ToneBinary</th>\n",
       "      <th>ToneMult</th>\n",
       "      <th>SkinTone</th>\n",
       "      <th>SVM Prediction</th>\n",
       "    </tr>\n",
       "  </thead>\n",
       "  <tbody>\n",
       "    <tr>\n",
       "      <th>0</th>\n",
       "      <td>ISIC_7559201</td>\n",
       "      <td>1</td>\n",
       "      <td>4</td>\n",
       "      <td>48</td>\n",
       "      <td>1</td>\n",
       "    </tr>\n",
       "    <tr>\n",
       "      <th>1</th>\n",
       "      <td>ISIC_0485014</td>\n",
       "      <td>0</td>\n",
       "      <td>1</td>\n",
       "      <td>13</td>\n",
       "      <td>1</td>\n",
       "    </tr>\n",
       "    <tr>\n",
       "      <th>2</th>\n",
       "      <td>ISIC_5257439</td>\n",
       "      <td>0</td>\n",
       "      <td>2</td>\n",
       "      <td>44</td>\n",
       "      <td>1</td>\n",
       "    </tr>\n",
       "    <tr>\n",
       "      <th>3</th>\n",
       "      <td>ISIC_2989732</td>\n",
       "      <td>0</td>\n",
       "      <td>2</td>\n",
       "      <td>47</td>\n",
       "      <td>1</td>\n",
       "    </tr>\n",
       "    <tr>\n",
       "      <th>4</th>\n",
       "      <td>ISIC_5638210</td>\n",
       "      <td>0</td>\n",
       "      <td>2</td>\n",
       "      <td>40</td>\n",
       "      <td>1</td>\n",
       "    </tr>\n",
       "  </tbody>\n",
       "</table>\n",
       "</div>"
      ],
      "text/plain": [
       "        isic_id ToneBinary ToneMult  SkinTone SVM Prediction\n",
       "0  ISIC_7559201          1        4        48              1\n",
       "1  ISIC_0485014          0        1        13              1\n",
       "2  ISIC_5257439          0        2        44              1\n",
       "3  ISIC_2989732          0        2        47              1\n",
       "4  ISIC_5638210          0        2        40              1"
      ]
     },
     "execution_count": 55,
     "metadata": {},
     "output_type": "execute_result"
    }
   ],
   "source": [
    "ClassDF[\"SVM Prediction\"]=models['Support Vector Machines'].predict(ClassDF[\"SkinTone\"].to_frame())\n",
    "ClassDF.head()"
   ]
  },
  {
   "cell_type": "code",
   "execution_count": null,
   "metadata": {},
   "outputs": [
    {
     "name": "stdout",
     "output_type": "stream",
     "text": [
      "           isic_id ToneBinary ToneMult  SkinTone SVM Prediction\n",
      "14    ISIC_4691636          1        4         5              0\n",
      "22    ISIC_5921373          1        4         0              0\n",
      "31    ISIC_1028529          1        4         0              0\n",
      "35    ISIC_6779786          1        4         1              0\n",
      "44    ISIC_7727119          1        4         0              0\n",
      "...            ...        ...      ...       ...            ...\n",
      "3563  ISIC_9863562          1        3         4              0\n",
      "3590  ISIC_3481768          1        3         5              0\n",
      "3607  ISIC_0202120          1        3         2              0\n",
      "3615  ISIC_3797573          1        3         3              0\n",
      "3650  ISIC_9127114          1        3         6              0\n",
      "\n",
      "[111 rows x 5 columns]\n"
     ]
    }
   ],
   "source": [
    "FalseNegatives = ClassDF[(ClassDF[\"SVM Prediction\"] == \"0\") & (ClassDF[\"ToneBinary\"] == \"1\")]\n",
    "FalseNegatives.to_csv(\"FalseNegatives.csv\")\n",
    "print(FalseNegatives)"
   ]
  },
  {
   "cell_type": "code",
   "execution_count": null,
   "metadata": {},
   "outputs": [
    {
     "ename": "SyntaxError",
     "evalue": "'break' outside loop (2242460848.py, line 3)",
     "output_type": "error",
     "traceback": [
      "\u001b[1;36m  Cell \u001b[1;32mIn[63], line 3\u001b[1;36m\u001b[0m\n\u001b[1;33m    break\u001b[0m\n\u001b[1;37m    ^\u001b[0m\n\u001b[1;31mSyntaxError\u001b[0m\u001b[1;31m:\u001b[0m 'break' outside loop\n"
     ]
    }
   ],
   "source": [
    "import matplotlib.pyplot as plt\n",
    "import os\n",
    "break\n",
    "# Get the isic_id column from the FalseNegatives dataframe\n",
    "isic_ids = FalseNegatives['isic_id']\n",
    "\n",
    "# Construct the image paths\n",
    "image_paths = [os.path.join(folder_path, f\"{isic_id}.JPG\") for isic_id in isic_ids]\n",
    "\n",
    "# Display the images\n",
    "for image_path in image_paths:\n",
    "    image = plt.imread(image_path)\n",
    "    plt.imshow(image)\n",
    "    plt.axis('off')\n",
    "    plt.show()\n"
   ]
  },
  {
   "cell_type": "markdown",
   "metadata": {},
   "source": [
    "- True Positive (TP): The patient is diseased and the model predicts \"diseased\"\n",
    "- False Positive (FP): The patient is healthy but the model predicts \"diseased\"\n",
    "- True Negative (TN): The patient is healthy and the model predicts \"healthy\"\n",
    "- False Negative (FN): The patient is diseased and the model predicts \"healthy\"\n",
    "\n",
    "- Accuracy = TP+TN  /  TP + FP + TN + FN = The proportion of guesses that you made that were actually correct\n",
    "- Precision = TP / TP + FP = The proportion of things you predicted as positive that actually were positive\n",
    "- Recall = TP / TP + FN = The proportion of things that actually are positive, that you predicted as positive"
   ]
  },
  {
   "cell_type": "code",
   "execution_count": null,
   "metadata": {},
   "outputs": [],
   "source": []
  },
  {
   "cell_type": "markdown",
   "metadata": {},
   "source": [
    "To do:\n",
    "- Actually run the code and save it this time you doughnut\n",
    "- For SVM, output the False Negatives and see what they have in common (predict they're the darker skin tones)\n",
    "- Maybe just the border this time, you numptee\n",
    "- A few pixels inside the border "
   ]
  },
  {
   "cell_type": "markdown",
   "metadata": {},
   "source": [
    "Table 2 Page 9 of paper in skin tone folder on ITA angle:\n",
    "30 < L* < 80\n",
    "0 < a* < 20\n",
    "5 < b* < 25\n",
    "\n",
    "Anything outside these ranges is likely not skin. Filter them out first, then look for mode ITA :)"
   ]
  }
 ],
 "metadata": {
  "kernelspec": {
   "display_name": "SkinTone",
   "language": "python",
   "name": "python3"
  },
  "language_info": {
   "codemirror_mode": {
    "name": "ipython",
    "version": 3
   },
   "file_extension": ".py",
   "mimetype": "text/x-python",
   "name": "python",
   "nbconvert_exporter": "python",
   "pygments_lexer": "ipython3",
   "version": "3.12.3"
  }
 },
 "nbformat": 4,
 "nbformat_minor": 2
}
